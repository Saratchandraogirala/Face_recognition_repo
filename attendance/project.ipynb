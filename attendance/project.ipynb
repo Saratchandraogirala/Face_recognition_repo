{
 "cells": [
  {
   "cell_type": "code",
   "execution_count": 1,
   "metadata": {},
   "outputs": [
    {
     "ename": "IndentationError",
     "evalue": "expected an indented block (<ipython-input-1-306b28ff80c4>, line 14)",
     "output_type": "error",
     "traceback": [
      "\u001b[1;36m  File \u001b[1;32m\"<ipython-input-1-306b28ff80c4>\"\u001b[1;36m, line \u001b[1;32m14\u001b[0m\n\u001b[1;33m    curImg = cv2.imread(f'{path}/{cl}')\u001b[0m\n\u001b[1;37m         ^\u001b[0m\n\u001b[1;31mIndentationError\u001b[0m\u001b[1;31m:\u001b[0m expected an indented block\n"
     ]
    }
   ],
   "source": [
    "import cv2\n",
    "import numpy as np\n",
    "import face_recognition\n",
    "import os\n",
    "from datetime import datetime\n",
    "# from PIL import ImageGrab\n",
    " \n",
    "path = 'ImagesAttendance'\n",
    "images = []\n",
    "classNames = []\n",
    "myList = os.listdir(path)\n",
    "print(myList)\n",
    "for cl in myList:\n",
    "curImg = cv2.imread(f'{path}/{cl}')\n",
    "images.append(curImg)\n",
    "classNames.append(os.path.splitext(cl)[0])\n",
    "print(classNames)\n",
    " \n",
    "def findEncodings(images):\n",
    "encodeList = []\n",
    "for img in images:\n",
    "img = cv2.cvtColor(img, cv2.COLOR_BGR2RGB)\n",
    "encode = face_recognition.face_encodings(img)[0]\n",
    "encodeList.append(encode)\n",
    "return encodeList\n",
    " \n",
    "def markAttendance(name):\n",
    "with open('Attendance.csv','r+') as f:\n",
    "myDataList = f.readlines()\n",
    "nameList = []\n",
    "for line in myDataList:\n",
    "entry = line.split(',')\n",
    "nameList.append(entry[0])\n",
    "if name not in nameList:\n",
    "now = datetime.now()\n",
    "dtString = now.strftime('%H:%M:%S')\n",
    "f.writelines(f'n{name},{dtString}')\n",
    " \n",
    "#### FOR CAPTURING SCREEN RATHER THAN WEBCAM\n",
    "# def captureScreen(bbox=(300,300,690+300,530+300)):\n",
    "#     capScr = np.array(ImageGrab.grab(bbox))\n",
    "#     capScr = cv2.cvtColor(capScr, cv2.COLOR_RGB2BGR)\n",
    "#     return capScr\n",
    " \n",
    "encodeListKnown = findEncodings(images)\n",
    "print('Encoding Complete')\n",
    " \n",
    "cap = cv2.VideoCapture(0)\n",
    " \n",
    "while True:\n",
    "success, img = cap.read()\n",
    "#img = captureScreen()\n",
    "imgS = cv2.resize(img,(0,0),None,0.25,0.25)\n",
    "imgS = cv2.cvtColor(imgS, cv2.COLOR_BGR2RGB)\n",
    " \n",
    "facesCurFrame = face_recognition.face_locations(imgS)\n",
    "encodesCurFrame = face_recognition.face_encodings(imgS,facesCurFrame)\n",
    " \n",
    "for encodeFace,faceLoc in zip(encodesCurFrame,facesCurFrame):\n",
    "matches = face_recognition.compare_faces(encodeListKnown,encodeFace)\n",
    "faceDis = face_recognition.face_distance(encodeListKnown,encodeFace)\n",
    "#print(faceDis)\n",
    "matchIndex = np.argmin(faceDis)\n",
    " \n",
    "if matches[matchIndex]:\n",
    "name = classNames[matchIndex].upper()\n",
    "#print(name)\n",
    "y1,x2,y2,x1 = faceLoc\n",
    "y1, x2, y2, x1 = y1*4,x2*4,y2*4,x1*4\n",
    "cv2.rectangle(img,(x1,y1),(x2,y2),(0,255,0),2)\n",
    "cv2.rectangle(img,(x1,y2-35),(x2,y2),(0,255,0),cv2.FILLED)\n",
    "cv2.putText(img,name,(x1+6,y2-6),cv2.FONT_HERSHEY_COMPLEX,1,(255,255,255),2)\n",
    "markAttendance(name)\n",
    " \n",
    "cv2.imshow('Webcam',img)\n",
    "cv2.waitKey(1)\n"
   ]
  },
  {
   "cell_type": "code",
   "execution_count": 1,
   "metadata": {},
   "outputs": [
    {
     "data": {
      "text/plain": [
       "-1"
      ]
     },
     "execution_count": 1,
     "metadata": {},
     "output_type": "execute_result"
    }
   ],
   "source": [
    "import cv2\n",
    "import face_recognition\n",
    "\n",
    "imglee = face_recognition.load_image_file('WIN_20220225_21_20_59_Pro.jpg')\n",
    "imglee = cv2.cvtColor(imglee, cv2.COLOR_BGR2RGB)\n",
    "imgTest = face_recognition.load_image_file('WIN_20220301_12_09_52_Pro.jpg')\n",
    "imgTest = cv2.cvtColor(imgTest, cv2.COLOR_BGR2RGB)\n",
    "\n",
    "cv2.imshow('Elon Musk', imglee)\n",
    "cv2.imshow('Elon Test', imgTest)\n",
    "cv2.waitKey(1)"
   ]
  }
 ],
 "metadata": {
  "interpreter": {
   "hash": "c853cd944f9ba36df174f189b90003118bafbf68df5fe7711340421fcb02d51f"
  },
  "kernelspec": {
   "display_name": "Python 3.6.13 ('proj')",
   "language": "python",
   "name": "python3"
  },
  "language_info": {
   "codemirror_mode": {
    "name": "ipython",
    "version": 3
   },
   "file_extension": ".py",
   "mimetype": "text/x-python",
   "name": "python",
   "nbconvert_exporter": "python",
   "pygments_lexer": "ipython3",
   "version": "3.6.13"
  },
  "orig_nbformat": 4
 },
 "nbformat": 4,
 "nbformat_minor": 2
}
